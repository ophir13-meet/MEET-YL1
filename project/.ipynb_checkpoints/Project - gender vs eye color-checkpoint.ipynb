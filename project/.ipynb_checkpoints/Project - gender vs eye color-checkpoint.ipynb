{
 "metadata": {
  "name": ""
 },
 "nbformat": 3,
 "nbformat_minor": 0,
 "worksheets": [
  {
   "cells": [
    {
     "cell_type": "code",
     "collapsed": false,
     "input": [
      "import csv"
     ],
     "language": "python",
     "metadata": {},
     "outputs": [],
     "prompt_number": 1
    },
    {
     "cell_type": "code",
     "collapsed": false,
     "input": [
      "f = open('eyecolorgenderdata.csv', 'rU')\n",
      "reader = csv.reader(f)\n",
      "gender = []\n",
      "eyecolor = []\n",
      "boy = []\n",
      "girl = []\n",
      "girlbrown = 0\n",
      "girlblue = 0\n",
      "girlgreen = 0\n",
      "boybrown = 0\n",
      "boyblue = 0\n",
      "boygreen = 0\n",
      "\n",
      "\n",
      "for row in reader:\n",
      "    if row[0] == 'female':\n",
      "        girl.append(row[3])\n",
      "    else:\n",
      "        boy.append(row[3])\n",
      "    \n",
      "for i in girl:\n",
      "    if i == 'brown':\n",
      "        girlbrown += 1\n",
      "    elif i == 'blue':\n",
      "        girlblue += 1\n",
      "    elif i == 'green':\n",
      "        girlgreen += 1\n",
      "\n",
      "for i in boy:\n",
      "    if i == 'brown':\n",
      "        boybrown += 1\n",
      "    elif i == 'blue':\n",
      "        boyblue += 1\n",
      "    elif i == 'green':\n",
      "        boygreen += 1\n",
      "        \n",
      "\n",
      "colors = [girlbrown,boybrown, girlblue,boyblue, girlgreen,  boygreen ]\n",
      "y = [0,1,2,3,4,5]\n",
      "print girlcolors\n",
      "        \n",
      "print \"girls:\"\n",
      "print girlbrown\n",
      "print girlblue\n",
      "print girlgreen\n",
      "print \"boys:\"\n",
      "print boybrown\n",
      "print boyblue\n",
      "print boygreen\n",
      "\n",
      "\n",
      "f.close()"
     ],
     "language": "python",
     "metadata": {},
     "outputs": [
      {
       "output_type": "stream",
       "stream": "stdout",
       "text": [
        "[81, 89, 55, 80, 114, 32]\n",
        "girls:\n",
        "81\n",
        "89\n",
        "55\n",
        "boys:\n",
        "80\n",
        "114\n",
        "32\n"
       ]
      }
     ],
     "prompt_number": 82
    },
    {
     "cell_type": "code",
     "collapsed": false,
     "input": [
      "fig = plt.figure()\n",
      "ax = fig.add_subplot(111)\n",
      "ax.set_title('gender vs eye color')\n",
      "ax.set_xlabel('boy/girl and eyecolor')\n",
      "ax.set_ylabel('how many')\n",
      "ax.bar(y, colors)\n",
      "ax.set_xticklabels(['girl brown', 'boy brown', 'girl blue', 'boy blue', 'girl green', 'boy green'] )\n"
     ],
     "language": "python",
     "metadata": {},
     "outputs": [
      {
       "metadata": {},
       "output_type": "pyout",
       "prompt_number": 86,
       "text": [
        "[<matplotlib.text.Text at 0xae8930c>,\n",
        " <matplotlib.text.Text at 0xaee3c0c>,\n",
        " <matplotlib.text.Text at 0xae7bf8c>,\n",
        " <matplotlib.text.Text at 0xae7b2cc>,\n",
        " <matplotlib.text.Text at 0xb012a6c>,\n",
        " <matplotlib.text.Text at 0xb015acc>]"
       ]
      },
      {
       "metadata": {},
       "output_type": "display_data",
       "png": "[encoded data removed]",
       "text": [
        "<matplotlib.figure.Figure at 0xae5bdec>"
       ]
      }
     ],
     "prompt_number": 86
    },
    {
     "cell_type": "markdown",
     "metadata": {},
     "source": [
      "This bar graph shows the difference between the number of girls and boys with different eye colors."
     ]
    }
   ],
   "metadata": {}
  }
 ]
}